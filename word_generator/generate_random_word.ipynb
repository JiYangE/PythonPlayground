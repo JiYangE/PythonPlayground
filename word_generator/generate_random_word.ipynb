{
 "cells": [
  {
   "cell_type": "code",
   "execution_count": 1,
   "metadata": {
    "collapsed": true
   },
   "outputs": [],
   "source": [
    "import pandas as pd\n",
    "import random\n",
    "import math"
   ]
  },
  {
   "cell_type": "code",
   "execution_count": 2,
   "metadata": {
    "collapsed": true
   },
   "outputs": [],
   "source": [
    "def generate(words, n):\n",
    "    for i in range(n):\n",
    "        selected = random.choice(words)\n",
    "        words.remove(selected)\n",
    "        print(selected, end=' ')"
   ]
  },
  {
   "cell_type": "code",
   "execution_count": 3,
   "metadata": {
    "collapsed": true
   },
   "outputs": [],
   "source": [
    "GROUP_SIZE = 25\n",
    "TOP_WORD = 14200\n",
    "GROUP_AMOUNT = 10"
   ]
  },
  {
   "cell_type": "code",
   "execution_count": 4,
   "metadata": {
    "collapsed": false
   },
   "outputs": [
    {
     "data": {
      "text/plain": [
       "(14629, 3)"
      ]
     },
     "execution_count": 4,
     "metadata": {},
     "output_type": "execute_result"
    }
   ],
   "source": [
    "data = pd.read_excel('source.xls')\n",
    "# drop table header\n",
    "data = data[6:]\n",
    "data.columns = [\"Index\", \"Word\", \"Frequency\", \"D1\", \"D2\"]\n",
    "data = data[[\"Index\", \"Word\", \"Frequency\"]]\n",
    "data.reset_index(drop=True, inplace=True)\n",
    "data.shape"
   ]
  },
  {
   "cell_type": "code",
   "execution_count": 5,
   "metadata": {
    "collapsed": true
   },
   "outputs": [],
   "source": [
    "data = data[:TOP_WORD]"
   ]
  },
  {
   "cell_type": "code",
   "execution_count": 6,
   "metadata": {
    "collapsed": false
   },
   "outputs": [
    {
     "data": {
      "text/plain": [
       "(11848, 2)"
      ]
     },
     "execution_count": 6,
     "metadata": {},
     "output_type": "execute_result"
    }
   ],
   "source": [
    "store = []\n",
    "for idx, row in data.iterrows():\n",
    "    if len(row['Word']) > 1:\n",
    "        store.append(row)\n",
    "df = pd.DataFrame(store)\n",
    "df = df[['Word', 'Frequency']]\n",
    "df.reset_index(drop=True, inplace=True)\n",
    "df.shape"
   ]
  },
  {
   "cell_type": "code",
   "execution_count": 7,
   "metadata": {
    "collapsed": false
   },
   "outputs": [
    {
     "data": {
      "text/plain": [
       "(11848, 2)"
      ]
     },
     "execution_count": 7,
     "metadata": {},
     "output_type": "execute_result"
    }
   ],
   "source": [
    "word_list = []\n",
    "word_list = [row['Word'] for idx, row in df.iterrows()]\n",
    "\n",
    "bin_size = df.shape[0]\n",
    "store_list = [[] for i in range(1, GROUP_AMOUNT + 1)]\n",
    "df.shape"
   ]
  },
  {
   "cell_type": "code",
   "execution_count": 8,
   "metadata": {
    "collapsed": false
   },
   "outputs": [],
   "source": [
    "def generate_bound(n):\n",
    "    # 2.5538^10 = 11800\n",
    "    return [math.floor(2.5538**(i+1)) for i in range(n)]"
   ]
  },
  {
   "cell_type": "code",
   "execution_count": 9,
   "metadata": {
    "collapsed": false
   },
   "outputs": [
    {
     "data": {
      "text/plain": [
       "[0, 2, 6, 16, 42, 108, 277, 708, 1809, 4620, 11799]"
      ]
     },
     "execution_count": 9,
     "metadata": {},
     "output_type": "execute_result"
    }
   ],
   "source": [
    "list_bound = generate_bound(GROUP_AMOUNT)\n",
    "list_bound.insert(0, 0)\n",
    "list_bound"
   ]
  },
  {
   "cell_type": "code",
   "execution_count": 10,
   "metadata": {
    "collapsed": false
   },
   "outputs": [
    {
     "name": "stdout",
     "output_type": "stream",
     "text": [
      "0 2\n",
      "2 6\n",
      "6 16\n",
      "16 42\n",
      "42 108\n",
      "108 277\n",
      "277 708\n",
      "708 1809\n",
      "1809 4620\n",
      "4620 11799\n"
     ]
    }
   ],
   "source": [
    "for i in range(len(list_bound)):\n",
    "    try:\n",
    "        lower = list_bound[i]\n",
    "        upper = list_bound[i + 1]\n",
    "        print(lower, upper)\n",
    "    except:\n",
    "        break\n",
    "    try:\n",
    "        for wd in word_list:\n",
    "            try:\n",
    "                wd_idx = word_list.index(wd)\n",
    "                if wd_idx > lower and wd_idx <= upper:\n",
    "                    store_list[i].append(wd)\n",
    "            except:\n",
    "                break\n",
    "    except:\n",
    "        break"
   ]
  },
  {
   "cell_type": "code",
   "execution_count": 11,
   "metadata": {
    "collapsed": false
   },
   "outputs": [
    {
     "name": "stdout",
     "output_type": "stream",
     "text": [
      "\n",
      "Group 0\n",
      "一个 没有 \n",
      "Group 1\n",
      "他们 发展 可以 自己 \n",
      "Group 2\n",
      "就是 什么 这个 这样 社会 进行 问题 工作 起来 国家 \n",
      "Group 3\n",
      "不能 生活 因为 作用 一些 人们 重要 这些 如果 主要 因此 我国 现在 一定 生产 由于 中国 但是 研究 不同 所以 已经 需要 不是 经济 \n",
      "Group 4\n",
      "同时 为了 历史 出来 知道 只有 教育 革命 时间 世界 还有 出现 组织 这里 产生 同志 许多 而且 社会主义 可能 人民 对于 活动 方法 第一 \n",
      "Group 5\n",
      "得到 内容 随着 比较 实现 个人 认识 并不 完全 有些 看到 规律 表示 产品 艺术 才能 几个 统一 孩子 环境 代表 部分 群众 这时 怎样 \n",
      "Group 6\n",
      "完成 突然 内部 因而 似的 运用 文学 调节 选择 似乎 很快 教学 仍然 改造 解放 除了 生物 不但 植物 目标 城市 服务 对象 执行 观众 \n",
      "Group 7\n",
      "接触 锻炼 投入 液体 个别 年龄 由此 主席 凡是 全体 真理 强烈 办公室 职能 符号 相比 之前 心情 其次 毫无 深深 差别 客人 头发 团结 \n",
      "Group 8\n",
      "台上 假设 感应 较为 停留 装置 必然性 人心 潜力 发病 站在 服装 书本 身旁 举办 养分 历代 还不是 会场 我军 本市 工作人员 教导 利于 抽出 \n",
      "Group 9\n",
      "人影 领到 永恒 公主 微波 吉林 原油 元件 元年 梯田 育种 收取 声称 万万 粘膜 招手 头目 干啥 副热带 闻到 教徒 渗出 足足 孙子兵法 岁时 "
     ]
    }
   ],
   "source": [
    "for i in range(len(store_list)):\n",
    "    if  len(store_list[i]) < GROUP_SIZE:\n",
    "        print('\\nGroup {}'.format(i))\n",
    "        for wd in store_list[i]:\n",
    "            print(wd, end=' ')\n",
    "    else:\n",
    "        try:\n",
    "            print('\\nGroup {}'.format(i))\n",
    "            generate(store_list[i], GROUP_SIZE)\n",
    "        except:\n",
    "            break"
   ]
  },
  {
   "cell_type": "code",
   "execution_count": null,
   "metadata": {
    "collapsed": true
   },
   "outputs": [],
   "source": []
  },
  {
   "cell_type": "code",
   "execution_count": null,
   "metadata": {
    "collapsed": true
   },
   "outputs": [],
   "source": []
  }
 ],
 "metadata": {
  "anaconda-cloud": {},
  "kernelspec": {
   "display_name": "Python [conda root]",
   "language": "python",
   "name": "conda-root-py"
  },
  "language_info": {
   "codemirror_mode": {
    "name": "ipython",
    "version": 3
   },
   "file_extension": ".py",
   "mimetype": "text/x-python",
   "name": "python",
   "nbconvert_exporter": "python",
   "pygments_lexer": "ipython3",
   "version": "3.5.2"
  }
 },
 "nbformat": 4,
 "nbformat_minor": 1
}
