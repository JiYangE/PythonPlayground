{
 "cells": [
  {
   "cell_type": "code",
   "execution_count": 1,
   "metadata": {
    "collapsed": true
   },
   "outputs": [],
   "source": [
    "import pandas as pd\n",
    "import random\n",
    "import math"
   ]
  },
  {
   "cell_type": "code",
   "execution_count": 2,
   "metadata": {
    "collapsed": true
   },
   "outputs": [],
   "source": [
    "def generate(words, n):\n",
    "    for i in range(n):\n",
    "        selected = random.choice(words)\n",
    "        words.remove(selected)\n",
    "        print(selected, end=' ')"
   ]
  },
  {
   "cell_type": "code",
   "execution_count": 3,
   "metadata": {
    "collapsed": true
   },
   "outputs": [],
   "source": [
    "GROUP_SIZE = 25\n",
    "TOP_WORD = 14200\n",
    "GROUP_AMOUNT = 10"
   ]
  },
  {
   "cell_type": "code",
   "execution_count": 4,
   "metadata": {
    "collapsed": false
   },
   "outputs": [
    {
     "data": {
      "text/plain": [
       "(14629, 3)"
      ]
     },
     "execution_count": 4,
     "metadata": {},
     "output_type": "execute_result"
    }
   ],
   "source": [
    "data = pd.read_excel('source.xls')\n",
    "# drop table header\n",
    "data = data[6:]\n",
    "data.columns = [\"Index\", \"Word\", \"Frequency\", \"D1\", \"D2\"]\n",
    "data = data[[\"Index\", \"Word\", \"Frequency\"]]\n",
    "data.reset_index(drop=True, inplace=True)\n",
    "data.shape"
   ]
  },
  {
   "cell_type": "code",
   "execution_count": 5,
   "metadata": {
    "collapsed": true
   },
   "outputs": [],
   "source": [
    "data = data[:TOP_WORD]"
   ]
  },
  {
   "cell_type": "code",
   "execution_count": 6,
   "metadata": {
    "collapsed": false
   },
   "outputs": [
    {
     "data": {
      "text/plain": [
       "(11848, 2)"
      ]
     },
     "execution_count": 6,
     "metadata": {},
     "output_type": "execute_result"
    }
   ],
   "source": [
    "store = []\n",
    "for idx, row in data.iterrows():\n",
    "    if len(row['Word']) > 1:\n",
    "        store.append(row)\n",
    "df = pd.DataFrame(store)\n",
    "df = df[['Word', 'Frequency']]\n",
    "df.reset_index(drop=True, inplace=True)\n",
    "df.shape"
   ]
  },
  {
   "cell_type": "code",
   "execution_count": 7,
   "metadata": {
    "collapsed": false
   },
   "outputs": [
    {
     "data": {
      "text/plain": [
       "(11848, 2)"
      ]
     },
     "execution_count": 7,
     "metadata": {},
     "output_type": "execute_result"
    }
   ],
   "source": [
    "word_list = []\n",
    "word_list = [row['Word'] for idx, row in df.iterrows()]\n",
    "\n",
    "bin_size = df.shape[0]\n",
    "store_list = [[] for i in range(1, GROUP_AMOUNT + 1)]\n",
    "df.shape"
   ]
  },
  {
   "cell_type": "code",
   "execution_count": 8,
   "metadata": {
    "collapsed": false
   },
   "outputs": [],
   "source": [
    "def generate_bound(n):\n",
    "    # 2.5538^10 = 11800\n",
    "    return [math.floor(2.5538**(i+1)) for i in range(n)]"
   ]
  },
  {
   "cell_type": "code",
   "execution_count": 9,
   "metadata": {
    "collapsed": false
   },
   "outputs": [
    {
     "data": {
      "text/plain": [
       "[0, 2, 6, 16, 42, 108, 277, 708, 1809, 4620, 11799]"
      ]
     },
     "execution_count": 9,
     "metadata": {},
     "output_type": "execute_result"
    }
   ],
   "source": [
    "list_bound = generate_bound(GROUP_AMOUNT)\n",
    "list_bound.insert(0, 0)\n",
    "list_bound"
   ]
  },
  {
   "cell_type": "code",
   "execution_count": 10,
   "metadata": {
    "collapsed": false
   },
   "outputs": [],
   "source": [
    "for i in range(len(list_bound)):\n",
    "    try:\n",
    "        lower = list_bound[i]\n",
    "        upper = list_bound[i + 1]\n",
    "    except:\n",
    "        break\n",
    "    try:\n",
    "        for wd in word_list:\n",
    "            try:\n",
    "                wd_idx = word_list.index(wd)\n",
    "                if wd_idx > lower and wd_idx <= upper:\n",
    "                    store_list[i].append(wd)\n",
    "            except:\n",
    "                break\n",
    "    except:\n",
    "        break"
   ]
  },
  {
   "cell_type": "code",
   "execution_count": 11,
   "metadata": {
    "collapsed": false
   },
   "outputs": [
    {
     "name": "stdout",
     "output_type": "stream",
     "text": [
      "\n",
      "Group 0\n",
      "一个 没有 \n",
      "Group 1\n",
      "他们 发展 可以 自己 \n",
      "Group 2\n",
      "就是 什么 这个 这样 社会 进行 问题 工作 起来 国家 \n",
      "Group 3\n",
      "经济 如果 所以 作用 我国 主要 因为 但是 现在 不是 关系 不能 重要 一定 这些 需要 因此 研究 不同 生活 生产 已经 人们 中国 一些 \n",
      "Group 4\n",
      "以及 地区 对于 科学 过程 提高 之间 方法 认为 许多 一切 也是 第一 同志 可能 变化 成为 作为 具有 还有 表现 知道 为了 一样 以后 \n",
      "Group 5\n",
      "能够 等等 并不 人类 有人 任何 应该 农民 市场 解决 整个 随着 领导 不仅 增加 完全 看到 其他 结果 规律 现象 全国 才能 群众 参加 \n",
      "Group 6\n",
      "满足 转化 领域 重视 改变 地球 降低 是否 本质 培养 数量 告诉 太阳 帝国主义 资料 战争 分别 根本 就要 最大 所有 高兴 更加 事物 著名 \n",
      "Group 7\n",
      "一旦 阶级斗争 消息 路线 汉语 天空 剥削 西北 压力 依据 路上 蒋介石 马克思主义 克服 长江 读书 各项 故意 反而 白色 行政 不变 不用 单纯 最初 \n",
      "Group 8\n",
      "借助 启示 仅仅是 后果 地表 老头 此种 青年人 标本 景色 女士 干活 传到 配套 技术人员 混乱 对照 不干 乡村 盐酸 氏族 钻进 恶劣 渴望 不要紧 \n",
      "Group 9\n",
      "雄性 历史观 岳飞 放射性元素 难看 无聊 劳动条件 巨型 各家 白洁 大队长 元朝 试点 物种 沿途 国民政府 自觉性 行事 友爱 针对性 儿童文学 追赶 妇人 近年 抵消 "
     ]
    }
   ],
   "source": [
    "for i in range(len(store_list)):\n",
    "    if  len(store_list[i]) < GROUP_SIZE:\n",
    "        print('\\nGroup {}'.format(i))\n",
    "        for wd in store_list[i]:\n",
    "            print(wd, end=' ')\n",
    "    else:\n",
    "        try:\n",
    "            print('\\nGroup {}'.format(i))\n",
    "            generate(store_list[i], GROUP_SIZE)\n",
    "        except:\n",
    "            break"
   ]
  },
  {
   "cell_type": "code",
   "execution_count": null,
   "metadata": {
    "collapsed": true
   },
   "outputs": [],
   "source": []
  }
 ],
 "metadata": {
  "anaconda-cloud": {},
  "kernelspec": {
   "display_name": "Python [conda root]",
   "language": "python",
   "name": "conda-root-py"
  },
  "language_info": {
   "codemirror_mode": {
    "name": "ipython",
    "version": 3
   },
   "file_extension": ".py",
   "mimetype": "text/x-python",
   "name": "python",
   "nbconvert_exporter": "python",
   "pygments_lexer": "ipython3",
   "version": "3.5.2"
  }
 },
 "nbformat": 4,
 "nbformat_minor": 1
}
