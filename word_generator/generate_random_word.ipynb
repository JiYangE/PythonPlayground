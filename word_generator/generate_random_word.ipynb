{
 "cells": [
  {
   "cell_type": "code",
   "execution_count": 1,
   "metadata": {
    "collapsed": true
   },
   "outputs": [],
   "source": [
    "import pandas as pd\n",
    "import random\n",
    "import math"
   ]
  },
  {
   "cell_type": "code",
   "execution_count": 2,
   "metadata": {
    "collapsed": true
   },
   "outputs": [],
   "source": [
    "def generate(words, n):\n",
    "    for i in range(n):\n",
    "        selected = random.choice(words)\n",
    "        words.remove(selected)\n",
    "        print(selected, end=' ')"
   ]
  },
  {
   "cell_type": "code",
   "execution_count": 3,
   "metadata": {
    "collapsed": true
   },
   "outputs": [],
   "source": [
    "GROUP_SIZE = 20\n",
    "TOP_WORD = 3000\n",
    "GROUP_AMOUNT = 10"
   ]
  },
  {
   "cell_type": "code",
   "execution_count": 4,
   "metadata": {
    "collapsed": false
   },
   "outputs": [
    {
     "data": {
      "text/html": [
       "<div>\n",
       "<table border=\"1\" class=\"dataframe\">\n",
       "  <thead>\n",
       "    <tr style=\"text-align: right;\">\n",
       "      <th></th>\n",
       "      <th>Index</th>\n",
       "      <th>Word</th>\n",
       "      <th>Frequency</th>\n",
       "    </tr>\n",
       "  </thead>\n",
       "  <tbody>\n",
       "    <tr>\n",
       "      <th>0</th>\n",
       "      <td>1</td>\n",
       "      <td>的</td>\n",
       "      <td>744863</td>\n",
       "    </tr>\n",
       "    <tr>\n",
       "      <th>1</th>\n",
       "      <td>2</td>\n",
       "      <td>了</td>\n",
       "      <td>130191</td>\n",
       "    </tr>\n",
       "    <tr>\n",
       "      <th>2</th>\n",
       "      <td>3</td>\n",
       "      <td>在</td>\n",
       "      <td>118823</td>\n",
       "    </tr>\n",
       "    <tr>\n",
       "      <th>3</th>\n",
       "      <td>4</td>\n",
       "      <td>是</td>\n",
       "      <td>118527</td>\n",
       "    </tr>\n",
       "    <tr>\n",
       "      <th>4</th>\n",
       "      <td>5</td>\n",
       "      <td>和</td>\n",
       "      <td>83958</td>\n",
       "    </tr>\n",
       "    <tr>\n",
       "      <th>5</th>\n",
       "      <td>6</td>\n",
       "      <td>一</td>\n",
       "      <td>81119</td>\n",
       "    </tr>\n",
       "    <tr>\n",
       "      <th>6</th>\n",
       "      <td>7</td>\n",
       "      <td>这</td>\n",
       "      <td>65146</td>\n",
       "    </tr>\n",
       "    <tr>\n",
       "      <th>7</th>\n",
       "      <td>8</td>\n",
       "      <td>有</td>\n",
       "      <td>53556</td>\n",
       "    </tr>\n",
       "    <tr>\n",
       "      <th>8</th>\n",
       "      <td>9</td>\n",
       "      <td>他</td>\n",
       "      <td>52912</td>\n",
       "    </tr>\n",
       "    <tr>\n",
       "      <th>9</th>\n",
       "      <td>10</td>\n",
       "      <td>我</td>\n",
       "      <td>52728</td>\n",
       "    </tr>\n",
       "  </tbody>\n",
       "</table>\n",
       "</div>"
      ],
      "text/plain": [
       "  Index Word Frequency\n",
       "0     1    的    744863\n",
       "1     2    了    130191\n",
       "2     3    在    118823\n",
       "3     4    是    118527\n",
       "4     5    和     83958\n",
       "5     6    一     81119\n",
       "6     7    这     65146\n",
       "7     8    有     53556\n",
       "8     9    他     52912\n",
       "9    10    我     52728"
      ]
     },
     "execution_count": 4,
     "metadata": {},
     "output_type": "execute_result"
    }
   ],
   "source": [
    "data = pd.read_excel('source.xls')\n",
    "# drop table header\n",
    "data = data[6:]\n",
    "data.columns = [\"Index\", \"Word\", \"Frequency\", \"D1\", \"D2\"]\n",
    "data = data[[\"Index\", \"Word\", \"Frequency\"]]\n",
    "data.reset_index(drop=True, inplace=True)\n",
    "data = data[:TOP_WORD]\n",
    "data.head(10)"
   ]
  },
  {
   "cell_type": "code",
   "execution_count": 5,
   "metadata": {
    "collapsed": false
   },
   "outputs": [
    {
     "data": {
      "text/html": [
       "<div>\n",
       "<table border=\"1\" class=\"dataframe\">\n",
       "  <thead>\n",
       "    <tr style=\"text-align: right;\">\n",
       "      <th></th>\n",
       "      <th>Word</th>\n",
       "      <th>Frequency</th>\n",
       "    </tr>\n",
       "  </thead>\n",
       "  <tbody>\n",
       "    <tr>\n",
       "      <th>0</th>\n",
       "      <td>我们</td>\n",
       "      <td>26823</td>\n",
       "    </tr>\n",
       "    <tr>\n",
       "      <th>1</th>\n",
       "      <td>一个</td>\n",
       "      <td>24807</td>\n",
       "    </tr>\n",
       "    <tr>\n",
       "      <th>2</th>\n",
       "      <td>没有</td>\n",
       "      <td>18950</td>\n",
       "    </tr>\n",
       "    <tr>\n",
       "      <th>3</th>\n",
       "      <td>他们</td>\n",
       "      <td>17787</td>\n",
       "    </tr>\n",
       "    <tr>\n",
       "      <th>4</th>\n",
       "      <td>发展</td>\n",
       "      <td>17331</td>\n",
       "    </tr>\n",
       "    <tr>\n",
       "      <th>5</th>\n",
       "      <td>可以</td>\n",
       "      <td>16734</td>\n",
       "    </tr>\n",
       "    <tr>\n",
       "      <th>6</th>\n",
       "      <td>自己</td>\n",
       "      <td>14793</td>\n",
       "    </tr>\n",
       "    <tr>\n",
       "      <th>7</th>\n",
       "      <td>就是</td>\n",
       "      <td>13715</td>\n",
       "    </tr>\n",
       "    <tr>\n",
       "      <th>8</th>\n",
       "      <td>什么</td>\n",
       "      <td>13589</td>\n",
       "    </tr>\n",
       "    <tr>\n",
       "      <th>9</th>\n",
       "      <td>这个</td>\n",
       "      <td>13202</td>\n",
       "    </tr>\n",
       "  </tbody>\n",
       "</table>\n",
       "</div>"
      ],
      "text/plain": [
       "  Word  Frequency\n",
       "0   我们      26823\n",
       "1   一个      24807\n",
       "2   没有      18950\n",
       "3   他们      17787\n",
       "4   发展      17331\n",
       "5   可以      16734\n",
       "6   自己      14793\n",
       "7   就是      13715\n",
       "8   什么      13589\n",
       "9   这个      13202"
      ]
     },
     "execution_count": 5,
     "metadata": {},
     "output_type": "execute_result"
    }
   ],
   "source": [
    "store = []\n",
    "for idx, row in data.iterrows():\n",
    "    if len(row['Word']) > 1:\n",
    "        store.append(row)\n",
    "df = pd.DataFrame(store)\n",
    "df = df[['Word', 'Frequency']]\n",
    "df.reset_index(drop=True, inplace=True)\n",
    "df.head(10)"
   ]
  },
  {
   "cell_type": "code",
   "execution_count": 6,
   "metadata": {
    "collapsed": true
   },
   "outputs": [],
   "source": [
    "word_list = []\n",
    "word_list = [row['Word'] for idx, row in df.iterrows()]\n",
    "\n",
    "bin_size = df.shape[0]\n",
    "store_list = [[] for i in range(1, GROUP_AMOUNT + 1)]"
   ]
  },
  {
   "cell_type": "code",
   "execution_count": 7,
   "metadata": {
    "collapsed": true
   },
   "outputs": [],
   "source": [
    "LIST_SIZE = df.shape[0] // GROUP_AMOUNT\n",
    "for wd in word_list:\n",
    "    try:\n",
    "        wd_idx = word_list.index(wd) // LIST_SIZE\n",
    "        store_list[wd_idx].append(wd)\n",
    "    except:\n",
    "        break"
   ]
  },
  {
   "cell_type": "code",
   "execution_count": 8,
   "metadata": {
    "collapsed": false
   },
   "outputs": [
    {
     "name": "stdout",
     "output_type": "stream",
     "text": [
      "\n",
      "Group 0\n",
      "不过 需要 能力 它们 工业 许多 自己 思想 利用 经济 学生 部分 一点 必须 因此 表现 现在 第一 一下 直接 \n",
      "\n",
      "Group 1\n",
      "来说 最后 加强 取得 状态 音乐 那里 又是 保证 严重 原来 文学 服务 事物 感到 控制 只能 事业 不要 因素 \n",
      "\n",
      "Group 2\n",
      "逐步 英国 保护 二十 中间 互相 以前 终于 资料 爸爸 解释 曾经 面前 平均 妈妈 前面 主张 成立 广大 资源 \n",
      "\n",
      "Group 3\n",
      "降低 刚才 原理 最高 发达 只好 品种 这位 机械 不久 相反 军队 各地 健康 走到 去年 宗教 记者 落后 地上 \n",
      "\n",
      "Group 4\n",
      "永远 很少 显著 分钟 大会 确实 推动 简直 真实 双方 之外 物理 社员 巩固 听见 休息 幸福 科学家 外国 不管 \n",
      "\n",
      "Group 5\n",
      "从来 有力 生动 记得 始终 早已 使得 召开 如今 货币 给予 头上 宣布 允许 压力 不必 名字 进去 主席 配合 \n",
      "\n",
      "Group 6\n",
      "来源 反而 局面 十年 近代 讲话 红军 记录 各项 指示 中国共产党 主题 到达 人民群众 善于 位于 最初 合同 微笑 果然 \n",
      "\n",
      "Group 7\n",
      "都会 外部 鼻子 反射 四人帮 繁殖 电阻 阶级斗争 放下 语音 单纯 供给 操作 转身 叔叔 水分 深深 流动 通知 外界 \n",
      "\n",
      "Group 8\n",
      "创造性 首都 算是 数字 浓度 昆虫 以至 临时 呈现 随便 参与 循环 组成部分 构造 比重 少年 广东 拿起 愿望 灯光 \n",
      "\n",
      "Group 9\n",
      "着重 有一天 危机 四川 象是 钢铁 少数民族 独特 收到 诞生 采访 沿海 否认 可能性 看成 队员 相当于 草原 塑造 尽量 \n"
     ]
    }
   ],
   "source": [
    "for i in range(len(store_list)):\n",
    "    print('\\nGroup {}'.format(i))\n",
    "    generate(store_list[i], GROUP_SIZE)\n",
    "    print()"
   ]
  }
 ],
 "metadata": {
  "anaconda-cloud": {},
  "kernelspec": {
   "display_name": "Python [conda root]",
   "language": "python",
   "name": "conda-root-py"
  },
  "language_info": {
   "codemirror_mode": {
    "name": "ipython",
    "version": 3
   },
   "file_extension": ".py",
   "mimetype": "text/x-python",
   "name": "python",
   "nbconvert_exporter": "python",
   "pygments_lexer": "ipython3",
   "version": "3.5.2"
  }
 },
 "nbformat": 4,
 "nbformat_minor": 1
}
